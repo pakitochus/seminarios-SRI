{
 "cells": [
  {
   "cell_type": "markdown",
   "source": [
    "# Ejemplo para seminario"
   ],
   "metadata": {}
  },
  {
   "cell_type": "code",
   "execution_count": 1,
   "source": [
    "import numpy as np \n",
    "\n",
    "def factorial(x=3):\n",
    "    # Esto es una función \n",
    "    y = 1\n",
    "    for i in range(x):\n",
    "        y = y*i\n",
    "    return y\n",
    "\n",
    "A = 2\n",
    "B = 3\n",
    "\n",
    "print(f'El resultado es: {factorial(A)+B}')"
   ],
   "outputs": [
    {
     "output_type": "stream",
     "name": "stdout",
     "text": [
      "El resultado es: 3\n"
     ]
    }
   ],
   "metadata": {}
  },
  {
   "cell_type": "code",
   "execution_count": null,
   "source": [],
   "outputs": [],
   "metadata": {}
  }
 ],
 "metadata": {
  "orig_nbformat": 4,
  "language_info": {
   "name": "python",
   "version": "3.8.11",
   "mimetype": "text/x-python",
   "codemirror_mode": {
    "name": "ipython",
    "version": 3
   },
   "pygments_lexer": "ipython3",
   "nbconvert_exporter": "python",
   "file_extension": ".py"
  },
  "kernelspec": {
   "name": "python3",
   "display_name": "Python 3.8.11 64-bit ('base': conda)"
  },
  "interpreter": {
   "hash": "a0b55c7affc6b59064461969e2801eeefed23cac648412e3cdf6aa9d8c256dd2"
  }
 },
 "nbformat": 4,
 "nbformat_minor": 2
}